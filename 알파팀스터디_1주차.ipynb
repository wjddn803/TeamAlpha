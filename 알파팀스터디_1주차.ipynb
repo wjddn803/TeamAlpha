{
 "cells": [
  {
   "cell_type": "markdown",
   "metadata": {},
   "source": [
    "# 5/7(화) 스터디 "
   ]
  },
  {
   "cell_type": "markdown",
   "metadata": {},
   "source": [
    "."
   ]
  },
  {
   "cell_type": "markdown",
   "metadata": {},
   "source": [
    "---"
   ]
  },
  {
   "cell_type": "markdown",
   "metadata": {},
   "source": [
    "## 1. 고급 Python 개념 익히기"
   ]
  },
  {
   "cell_type": "markdown",
   "metadata": {},
   "source": [
    "### 1) 클래스란?"
   ]
  },
  {
   "cell_type": "markdown",
   "metadata": {},
   "source": [
    "파이썬의 __객체__를 표현하기 위한 문법이며, __인스턴스__를 만들기 위한 하나의 \"틀\"이라고 생각하면 편하다. "
   ]
  },
  {
   "cell_type": "markdown",
   "metadata": {},
   "source": [
    "- 객체(object): 파이썬이 데이터(data)를 추상화한 것(abstraction)\n",
    "\n",
    "\n",
    "    파이썬 프로그램의 모든 데이터는 객체나 객체 간의 관계로 표현\n",
    "    아이덴티티(identity), 형(type), 값(value)을 가짐\n",
    "    \n",
    "    \n",
    "    \n",
    "- 인스턴스(Instance): 객체가 어떤 클래스에 속할 때, 그 객체를 그 클래스의 인스턴스(instance)\n",
    "    \n",
    "    \n",
    "    \n",
    "- 객체와 인스턴스의 차이:\n",
    "\n",
    "\n",
    "    클래스에 의해서 만들어진 객체를 인스턴스라고도 한다. 그렇다면 객체와 인스턴스의 차이는 무엇일까? 이렇게 생각해 보자. a = Cookie() 이렇게 만들어진 a는 객체이다. 그리고 a라는 객체는 Cookie의 인스턴스이다. 즉, 인스턴스라는 말은 특정 객체(a)가 어떤 클래스(Cookie)의 객체인지를 관계 위주로 설명할 때 사용된다. 즉, \"a는 인스턴스\" 보다는 \"a는 객체\"라는 표현이 어울리며, \"a는 Cookie의 객체\" 보다는 \"a는 Cookie의 인스턴스\"라는 표현이 훨씬 잘 어울린다.\n",
    "    \n",
    "    \n",
    "- 메서드:\n",
    "    클래스 내부에 정의된 함수"
   ]
  },
  {
   "cell_type": "markdown",
   "metadata": {},
   "source": [
    "    ex) '사람'이라는 클래스 안에 '때리기'라는 메서드가 있다. 이 클래스로 '임정우'라는 객체를 만들게 되면 '임정우'는 '사람'클래스의 인스턴스! \n",
    "\n",
    "    '사람'클래스로 '임정우'인스턴스를 만들었으므로, '때리기'메서드가 구현되었을 것이다!"
   ]
  },
  {
   "cell_type": "markdown",
   "metadata": {},
   "source": [
    "우리가 평소에 사용하는 int()도 정수를 반환하는 클래스이다. "
   ]
  },
  {
   "cell_type": "code",
   "execution_count": 13,
   "metadata": {
    "scrolled": true
   },
   "outputs": [
    {
     "data": {
      "text/plain": [
       "True"
      ]
     },
     "execution_count": 13,
     "metadata": {},
     "output_type": "execute_result"
    }
   ],
   "source": [
    "isinstance(1789, int) #int 라는 클래스로 만든 객체가 1789이니?"
   ]
  },
  {
   "cell_type": "code",
   "execution_count": 16,
   "metadata": {},
   "outputs": [
    {
     "data": {
      "text/plain": [
       "True"
      ]
     },
     "execution_count": 16,
     "metadata": {},
     "output_type": "execute_result"
    }
   ],
   "source": [
    "isinstance('JungwooLim',str) #str 라는 클래스로 만든 객체가 JungwooLim이니?"
   ]
  },
  {
   "cell_type": "code",
   "execution_count": 19,
   "metadata": {},
   "outputs": [
    {
     "data": {
      "text/plain": [
       "['__abs__',\n",
       " '__add__',\n",
       " '__and__',\n",
       " '__bool__',\n",
       " '__ceil__',\n",
       " '__class__',\n",
       " '__delattr__',\n",
       " '__dir__',\n",
       " '__divmod__',\n",
       " '__doc__',\n",
       " '__eq__',\n",
       " '__float__',\n",
       " '__floor__',\n",
       " '__floordiv__',\n",
       " '__format__',\n",
       " '__ge__',\n",
       " '__getattribute__',\n",
       " '__getnewargs__',\n",
       " '__gt__',\n",
       " '__hash__',\n",
       " '__index__',\n",
       " '__init__',\n",
       " '__init_subclass__',\n",
       " '__int__',\n",
       " '__invert__',\n",
       " '__le__',\n",
       " '__lshift__',\n",
       " '__lt__',\n",
       " '__mod__',\n",
       " '__mul__',\n",
       " '__ne__',\n",
       " '__neg__',\n",
       " '__new__',\n",
       " '__or__',\n",
       " '__pos__',\n",
       " '__pow__',\n",
       " '__radd__',\n",
       " '__rand__',\n",
       " '__rdivmod__',\n",
       " '__reduce__',\n",
       " '__reduce_ex__',\n",
       " '__repr__',\n",
       " '__rfloordiv__',\n",
       " '__rlshift__',\n",
       " '__rmod__',\n",
       " '__rmul__',\n",
       " '__ror__',\n",
       " '__round__',\n",
       " '__rpow__',\n",
       " '__rrshift__',\n",
       " '__rshift__',\n",
       " '__rsub__',\n",
       " '__rtruediv__',\n",
       " '__rxor__',\n",
       " '__setattr__',\n",
       " '__sizeof__',\n",
       " '__str__',\n",
       " '__sub__',\n",
       " '__subclasshook__',\n",
       " '__truediv__',\n",
       " '__trunc__',\n",
       " '__xor__',\n",
       " 'bit_length',\n",
       " 'conjugate',\n",
       " 'denominator',\n",
       " 'from_bytes',\n",
       " 'imag',\n",
       " 'numerator',\n",
       " 'real',\n",
       " 'to_bytes']"
      ]
     },
     "execution_count": 19,
     "metadata": {},
     "output_type": "execute_result"
    }
   ],
   "source": [
    "dir(int)"
   ]
  },
  {
   "cell_type": "code",
   "execution_count": 20,
   "metadata": {},
   "outputs": [
    {
     "data": {
      "text/plain": [
       "False"
      ]
     },
     "execution_count": 20,
     "metadata": {},
     "output_type": "execute_result"
    }
   ],
   "source": [
    "isinstance(int.__add__,int) #얘는 인스턴스가 아니라 메서드야! 메서드는 클래스 내부에서 정의된 함수!"
   ]
  },
  {
   "cell_type": "markdown",
   "metadata": {},
   "source": [
    "https://wikidocs.net/28 \n",
    "\n",
    "\n",
    "https://dojang.io/mod/page/view.php?id=2372"
   ]
  },
  {
   "cell_type": "markdown",
   "metadata": {},
   "source": [
    "### 2) 클래스, 어떻게 만들지?"
   ]
  },
  {
   "cell_type": "markdown",
   "metadata": {},
   "source": [
    "예시 1) - class 기초"
   ]
  },
  {
   "cell_type": "code",
   "execution_count": 17,
   "metadata": {},
   "outputs": [],
   "source": [
    "class Parrot:\n",
    "\n",
    "    # class attribute\n",
    "    species = \"bird\"\n",
    "\n",
    "    # instance attribute\n",
    "    def __init__(self, name, age): ##initialize하기 위해 필요하다. 인스턴스 만들때마다 실행!\n",
    "        self.name = name\n",
    "        self.age = age"
   ]
  },
  {
   "cell_type": "code",
   "execution_count": 18,
   "metadata": {},
   "outputs": [],
   "source": [
    "# instantiate the Parrot class\n",
    "blu = Parrot(\"Blu\", 10)\n",
    "woo = Parrot(\"Woo\", 15)"
   ]
  },
  {
   "cell_type": "code",
   "execution_count": 24,
   "metadata": {},
   "outputs": [
    {
     "data": {
      "text/plain": [
       "{'name': 'Blu', 'age': 10}"
      ]
     },
     "execution_count": 24,
     "metadata": {},
     "output_type": "execute_result"
    }
   ],
   "source": [
    "vars(blu)"
   ]
  },
  {
   "cell_type": "code",
   "execution_count": 25,
   "metadata": {},
   "outputs": [
    {
     "data": {
      "text/plain": [
       "{'name': 'Woo', 'age': 15}"
      ]
     },
     "execution_count": 25,
     "metadata": {},
     "output_type": "execute_result"
    }
   ],
   "source": [
    "vars(woo)"
   ]
  },
  {
   "cell_type": "code",
   "execution_count": 27,
   "metadata": {
    "scrolled": true
   },
   "outputs": [
    {
     "data": {
      "text/plain": [
       "'bird'"
      ]
     },
     "execution_count": 27,
     "metadata": {},
     "output_type": "execute_result"
    }
   ],
   "source": [
    "blu.species"
   ]
  },
  {
   "cell_type": "code",
   "execution_count": 28,
   "metadata": {},
   "outputs": [
    {
     "data": {
      "text/plain": [
       "'bird'"
      ]
     },
     "execution_count": 28,
     "metadata": {},
     "output_type": "execute_result"
    }
   ],
   "source": [
    "woo.species"
   ]
  },
  {
   "cell_type": "code",
   "execution_count": 29,
   "metadata": {},
   "outputs": [],
   "source": [
    "blu.species = 'bird2'"
   ]
  },
  {
   "cell_type": "code",
   "execution_count": 30,
   "metadata": {
    "scrolled": true
   },
   "outputs": [
    {
     "data": {
      "text/plain": [
       "'bird2'"
      ]
     },
     "execution_count": 30,
     "metadata": {},
     "output_type": "execute_result"
    }
   ],
   "source": [
    "blu.species #여기서 blue.species는 instance attribute이다!!!!!"
   ]
  },
  {
   "cell_type": "code",
   "execution_count": 31,
   "metadata": {},
   "outputs": [
    {
     "data": {
      "text/plain": [
       "{'name': 'Blu', 'age': 10, 'species': 'bird2'}"
      ]
     },
     "execution_count": 31,
     "metadata": {},
     "output_type": "execute_result"
    }
   ],
   "source": [
    "blu.__dict__"
   ]
  },
  {
   "cell_type": "code",
   "execution_count": 20,
   "metadata": {
    "scrolled": true
   },
   "outputs": [
    {
     "data": {
      "text/plain": [
       "__main__.Parrot"
      ]
     },
     "execution_count": 20,
     "metadata": {},
     "output_type": "execute_result"
    }
   ],
   "source": [
    "type(blu) #__main__ 는 현재 작업하고 있는 객체!혹은 파일"
   ]
  },
  {
   "cell_type": "code",
   "execution_count": 21,
   "metadata": {},
   "outputs": [
    {
     "data": {
      "text/plain": [
       "type"
      ]
     },
     "execution_count": 21,
     "metadata": {},
     "output_type": "execute_result"
    }
   ],
   "source": [
    "type(Parrot)"
   ]
  },
  {
   "cell_type": "markdown",
   "metadata": {},
   "source": [
    "형을 물어봤을 때, type이 나오는 건 class고 type의 타입의 이름이 나오는게 instance다."
   ]
  },
  {
   "cell_type": "code",
   "execution_count": 22,
   "metadata": {},
   "outputs": [
    {
     "data": {
      "text/plain": [
       "['__class__',\n",
       " '__delattr__',\n",
       " '__dict__',\n",
       " '__dir__',\n",
       " '__doc__',\n",
       " '__eq__',\n",
       " '__format__',\n",
       " '__ge__',\n",
       " '__getattribute__',\n",
       " '__gt__',\n",
       " '__hash__',\n",
       " '__init__',\n",
       " '__init_subclass__',\n",
       " '__le__',\n",
       " '__lt__',\n",
       " '__module__',\n",
       " '__ne__',\n",
       " '__new__',\n",
       " '__reduce__',\n",
       " '__reduce_ex__',\n",
       " '__repr__',\n",
       " '__setattr__',\n",
       " '__sizeof__',\n",
       " '__str__',\n",
       " '__subclasshook__',\n",
       " '__weakref__',\n",
       " 'age',\n",
       " 'name',\n",
       " 'species']"
      ]
     },
     "execution_count": 22,
     "metadata": {},
     "output_type": "execute_result"
    }
   ],
   "source": [
    "dir(blu)"
   ]
  },
  {
   "cell_type": "code",
   "execution_count": 23,
   "metadata": {},
   "outputs": [
    {
     "data": {
      "text/plain": [
       "['__class__',\n",
       " '__delattr__',\n",
       " '__dict__',\n",
       " '__dir__',\n",
       " '__doc__',\n",
       " '__eq__',\n",
       " '__format__',\n",
       " '__ge__',\n",
       " '__getattribute__',\n",
       " '__gt__',\n",
       " '__hash__',\n",
       " '__init__',\n",
       " '__init_subclass__',\n",
       " '__le__',\n",
       " '__lt__',\n",
       " '__module__',\n",
       " '__ne__',\n",
       " '__new__',\n",
       " '__reduce__',\n",
       " '__reduce_ex__',\n",
       " '__repr__',\n",
       " '__setattr__',\n",
       " '__sizeof__',\n",
       " '__str__',\n",
       " '__subclasshook__',\n",
       " '__weakref__',\n",
       " 'species']"
      ]
     },
     "execution_count": 23,
     "metadata": {},
     "output_type": "execute_result"
    }
   ],
   "source": [
    "dir(Parrot)"
   ]
  },
  {
   "cell_type": "markdown",
   "metadata": {},
   "source": [
    "예시 2) - 메서드 기초"
   ]
  },
  {
   "cell_type": "code",
   "execution_count": 32,
   "metadata": {},
   "outputs": [
    {
     "name": "stdout",
     "output_type": "stream",
     "text": [
      "Blu sings 'Happy'\n",
      "Blu is now dancing\n"
     ]
    }
   ],
   "source": [
    "class Parrot:\n",
    "    \n",
    "    # instance attributes\n",
    "    def __init__(self, name, age):\n",
    "        self.name = name\n",
    "        self.age = age\n",
    "    \n",
    "    # instance method\n",
    "    def sing(self, song):\n",
    "        return \"{} sings {}\".format(self.name, song)\n",
    "\n",
    "    def dance(self):\n",
    "        return \"{} is now dancing\".format(self.name)\n",
    "\n",
    "# instantiate the object\n",
    "blu = Parrot(\"Blu\", 10)\n",
    "\n",
    "# call our instance methods\n",
    "print(blu.sing(\"'Happy'\"))\n",
    "print(blu.dance())"
   ]
  },
  {
   "cell_type": "markdown",
   "metadata": {},
   "source": [
    "### 3) 클래스, 어떻게 쓰이지?"
   ]
  },
  {
   "cell_type": "markdown",
   "metadata": {},
   "source": [
    "https://github.com/EdinburghNLP/Refresh/blob/master/my_model.py"
   ]
  },
  {
   "cell_type": "markdown",
   "metadata": {},
   "source": [
    "---"
   ]
  },
  {
   "cell_type": "markdown",
   "metadata": {},
   "source": [
    "## 2. TensorFlow 기초"
   ]
  },
  {
   "cell_type": "code",
   "execution_count": 21,
   "metadata": {},
   "outputs": [],
   "source": [
    "from IPython.display import Image"
   ]
  },
  {
   "cell_type": "code",
   "execution_count": 2,
   "metadata": {},
   "outputs": [],
   "source": [
    "import tensorflow as tf"
   ]
  },
  {
   "cell_type": "markdown",
   "metadata": {},
   "source": [
    "### 0) TensorFlow란 무엇일까?"
   ]
  },
  {
   "cell_type": "markdown",
   "metadata": {},
   "source": [
    "https://gist.github.com/haje01/202ac276bace4b25dd3f"
   ]
  },
  {
   "cell_type": "code",
   "execution_count": 29,
   "metadata": {},
   "outputs": [
    {
     "data": {
      "text/html": [
       "<img src=\"https://www.easy-tensorflow.com/files/1_2.png\"/>"
      ],
      "text/plain": [
       "<IPython.core.display.Image object>"
      ]
     },
     "execution_count": 29,
     "metadata": {},
     "output_type": "execute_result"
    }
   ],
   "source": [
    "Image(url='https://www.easy-tensorflow.com/files/1_2.png')"
   ]
  },
  {
   "cell_type": "markdown",
   "metadata": {},
   "source": [
    "### 1) TensorFlow 에서의 Tensor"
   ]
  },
  {
   "cell_type": "markdown",
   "metadata": {},
   "source": [
    "내부적으로 모든 데이터는 텐서를 통해 표현된다. 텐서는 일종의 다차원 배열인데, 그래프 내의 오퍼레이션 간에는 텐서만이 전달된다."
   ]
  },
  {
   "cell_type": "markdown",
   "metadata": {},
   "source": [
    "__(1) tensorflow.constant: 상수타입__"
   ]
  },
  {
   "cell_type": "code",
   "execution_count": 3,
   "metadata": {},
   "outputs": [
    {
     "name": "stdout",
     "output_type": "stream",
     "text": [
      "Creates a constant tensor.\n",
      "\n",
      "  The resulting tensor is populated with values of type `dtype`, as\n",
      "  specified by arguments `value` and (optionally) `shape` (see examples\n",
      "  below).\n",
      "\n",
      "  The argument `value` can be a constant value, or a list of values of type\n",
      "  `dtype`. If `value` is a list, then the length of the list must be less\n",
      "  than or equal to the number of elements implied by the `shape` argument (if\n",
      "  specified). In the case where the list length is less than the number of\n",
      "  elements specified by `shape`, the last element in the list will be used\n",
      "  to fill the remaining entries.\n",
      "\n",
      "  The argument `shape` is optional. If present, it specifies the dimensions of\n",
      "  the resulting tensor. If not present, the shape of `value` is used.\n",
      "\n",
      "  If the argument `dtype` is not specified, then the type is inferred from\n",
      "  the type of `value`.\n",
      "\n",
      "  For example:\n",
      "\n",
      "  ```python\n",
      "  # Constant 1-D Tensor populated with value list.\n",
      "  tensor = tf.constant([1, 2, 3, 4, 5, 6, 7]) => [1 2 3 4 5 6 7]\n",
      "\n",
      "  # Constant 2-D tensor populated with scalar value -1.\n",
      "  tensor = tf.constant(-1.0, shape=[2, 3]) => [[-1. -1. -1.]\n",
      "                                               [-1. -1. -1.]]\n",
      "  ```\n",
      "\n",
      "  Args:\n",
      "    value:          A constant value (or list) of output type `dtype`.\n",
      "\n",
      "    dtype:          The type of the elements of the resulting tensor.\n",
      "\n",
      "    shape:          Optional dimensions of resulting tensor.\n",
      "\n",
      "    name:           Optional name for the tensor.\n",
      "\n",
      "    verify_shape:   Boolean that enables verification of a shape of values.\n",
      "\n",
      "  Returns:\n",
      "    A Constant Tensor.\n",
      "\n",
      "  Raises:\n",
      "    TypeError: if shape is incorrectly specified or unsupported.\n",
      "  \n"
     ]
    }
   ],
   "source": [
    "print(tf.constant.__doc__)"
   ]
  },
  {
   "cell_type": "markdown",
   "metadata": {},
   "source": [
    "- value : 상수의 값\n",
    "- dtype : 상수의 데이터형. tf.float32와 같이 실수,정수등의 데이타 타입을 정의\n",
    "- shape : 행렬의 차원을 정의한다. shape=[3,3]으로 정의해주면, 이 상수는 3x3 행렬을 저장\n",
    "- name : name은 이 상수의 이름을 정의"
   ]
  },
  {
   "cell_type": "markdown",
   "metadata": {},
   "source": [
    "예시 1) - 상수"
   ]
  },
  {
   "cell_type": "code",
   "execution_count": 7,
   "metadata": {},
   "outputs": [
    {
     "name": "stdout",
     "output_type": "stream",
     "text": [
      "Tensor(\"Const:0\", shape=(), dtype=string)\n"
     ]
    }
   ],
   "source": [
    "# tf.constant: 말 그대로 상수\n",
    "hello = tf.constant('Hello, TensorFlow!')\n",
    "print(hello)"
   ]
  },
  {
   "cell_type": "code",
   "execution_count": 35,
   "metadata": {},
   "outputs": [
    {
     "name": "stdout",
     "output_type": "stream",
     "text": [
      "Tensor(\"Const:0\", shape=(), dtype=string)\n",
      "Tensor(\"Add:0\", shape=(), dtype=int32)\n"
     ]
    }
   ],
   "source": [
    "a = tf.constant(10)\n",
    "b = tf.constant(32)\n",
    "c = tf.add(a, b)  # a + b 로도 쓸 수 있음\n",
    "print(c)"
   ]
  },
  {
   "cell_type": "markdown",
   "metadata": {},
   "source": [
    "__(2) tensorflow.placeholder: 플레이스홀더타입__"
   ]
  },
  {
   "cell_type": "code",
   "execution_count": 6,
   "metadata": {},
   "outputs": [
    {
     "name": "stdout",
     "output_type": "stream",
     "text": [
      "Inserts a placeholder for a tensor that will be always fed.\n",
      "\n",
      "  **Important**: This tensor will produce an error if evaluated. Its value must\n",
      "  be fed using the `feed_dict` optional argument to `Session.run()`,\n",
      "  `Tensor.eval()`, or `Operation.run()`.\n",
      "\n",
      "  For example:\n",
      "\n",
      "  ```python\n",
      "  x = tf.placeholder(tf.float32, shape=(1024, 1024))\n",
      "  y = tf.matmul(x, x)\n",
      "\n",
      "  with tf.Session() as sess:\n",
      "    print(sess.run(y))  # ERROR: will fail because x was not fed.\n",
      "\n",
      "    rand_array = np.random.rand(1024, 1024)\n",
      "    print(sess.run(y, feed_dict={x: rand_array}))  # Will succeed.\n",
      "  ```\n",
      "\n",
      "  @compatibility{eager} Placeholders are not compatible with eager execution.\n",
      "\n",
      "  Args:\n",
      "    dtype: The type of elements in the tensor to be fed.\n",
      "    shape: The shape of the tensor to be fed (optional). If the shape is not\n",
      "      specified, you can feed a tensor of any shape.\n",
      "    name: A name for the operation (optional).\n",
      "\n",
      "  Returns:\n",
      "    A `Tensor` that may be used as a handle for feeding a value, but not\n",
      "    evaluated directly.\n",
      "\n",
      "  Raises:\n",
      "    RuntimeError: if eager execution is enabled\n",
      "  \n"
     ]
    }
   ],
   "source": [
    "print(tf.placeholder.__doc__)"
   ]
  },
  {
   "cell_type": "markdown",
   "metadata": {},
   "source": [
    "예시 2) - placeholder"
   ]
  },
  {
   "cell_type": "code",
   "execution_count": 36,
   "metadata": {},
   "outputs": [
    {
     "name": "stdout",
     "output_type": "stream",
     "text": [
      "Tensor(\"Placeholder:0\", shape=(?, 3), dtype=float32)\n"
     ]
    }
   ],
   "source": [
    "# tf.placeholder: 계산을 실행할 때 입력값을 받는 변수로 사용합니다.\n",
    "# None 은 크기가 정해지지 않았음을 의미합니다.\n",
    "X = tf.placeholder(tf.float32, [None, 3])\n",
    "print(X)"
   ]
  },
  {
   "cell_type": "markdown",
   "metadata": {},
   "source": [
    "__(3) tensorflow.Variable: 변수타입__"
   ]
  },
  {
   "cell_type": "code",
   "execution_count": 9,
   "metadata": {},
   "outputs": [
    {
     "name": "stdout",
     "output_type": "stream",
     "text": [
      "See the @{$variables$Variables How To} for a high level overview.\n",
      "\n",
      "  A variable maintains state in the graph across calls to `run()`. You add a\n",
      "  variable to the graph by constructing an instance of the class `Variable`.\n",
      "\n",
      "  The `Variable()` constructor requires an initial value for the variable,\n",
      "  which can be a `Tensor` of any type and shape. The initial value defines the\n",
      "  type and shape of the variable. After construction, the type and shape of\n",
      "  the variable are fixed. The value can be changed using one of the assign\n",
      "  methods.\n",
      "\n",
      "  If you want to change the shape of a variable later you have to use an\n",
      "  `assign` Op with `validate_shape=False`.\n",
      "\n",
      "  Just like any `Tensor`, variables created with `Variable()` can be used as\n",
      "  inputs for other Ops in the graph. Additionally, all the operators\n",
      "  overloaded for the `Tensor` class are carried over to variables, so you can\n",
      "  also add nodes to the graph by just doing arithmetic on variables.\n",
      "\n",
      "  ```python\n",
      "  import tensorflow as tf\n",
      "\n",
      "  # Create a variable.\n",
      "  w = tf.Variable(<initial-value>, name=<optional-name>)\n",
      "\n",
      "  # Use the variable in the graph like any Tensor.\n",
      "  y = tf.matmul(w, ...another variable or tensor...)\n",
      "\n",
      "  # The overloaded operators are available too.\n",
      "  z = tf.sigmoid(w + y)\n",
      "\n",
      "  # Assign a new value to the variable with `assign()` or a related method.\n",
      "  w.assign(w + 1.0)\n",
      "  w.assign_add(1.0)\n",
      "  ```\n",
      "\n",
      "  When you launch the graph, variables have to be explicitly initialized before\n",
      "  you can run Ops that use their value. You can initialize a variable by\n",
      "  running its *initializer op*, restoring the variable from a save file, or\n",
      "  simply running an `assign` Op that assigns a value to the variable. In fact,\n",
      "  the variable *initializer op* is just an `assign` Op that assigns the\n",
      "  variable's initial value to the variable itself.\n",
      "\n",
      "  ```python\n",
      "  # Launch the graph in a session.\n",
      "  with tf.Session() as sess:\n",
      "      # Run the variable initializer.\n",
      "      sess.run(w.initializer)\n",
      "      # ...you now can run ops that use the value of 'w'...\n",
      "  ```\n",
      "\n",
      "  The most common initialization pattern is to use the convenience function\n",
      "  `global_variables_initializer()` to add an Op to the graph that initializes\n",
      "  all the variables. You then run that Op after launching the graph.\n",
      "\n",
      "  ```python\n",
      "  # Add an Op to initialize global variables.\n",
      "  init_op = tf.global_variables_initializer()\n",
      "\n",
      "  # Launch the graph in a session.\n",
      "  with tf.Session() as sess:\n",
      "      # Run the Op that initializes global variables.\n",
      "      sess.run(init_op)\n",
      "      # ...you can now run any Op that uses variable values...\n",
      "  ```\n",
      "\n",
      "  If you need to create a variable with an initial value dependent on another\n",
      "  variable, use the other variable's `initialized_value()`. This ensures that\n",
      "  variables are initialized in the right order.\n",
      "\n",
      "  All variables are automatically collected in the graph where they are\n",
      "  created. By default, the constructor adds the new variable to the graph\n",
      "  collection `GraphKeys.GLOBAL_VARIABLES`. The convenience function\n",
      "  `global_variables()` returns the contents of that collection.\n",
      "\n",
      "  When building a machine learning model it is often convenient to distinguish\n",
      "  between variables holding the trainable model parameters and other variables\n",
      "  such as a `global step` variable used to count training steps. To make this\n",
      "  easier, the variable constructor supports a `trainable=<bool>` parameter. If\n",
      "  `True`, the new variable is also added to the graph collection\n",
      "  `GraphKeys.TRAINABLE_VARIABLES`. The convenience function\n",
      "  `trainable_variables()` returns the contents of this collection. The\n",
      "  various `Optimizer` classes use this collection as the default list of\n",
      "  variables to optimize.\n",
      "\n",
      "  @compatibility(eager)\n",
      "  `tf.Variable` is not compatible with eager execution.  Use\n",
      "  `tfe.Variable` instead which is compatible with both eager execution\n",
      "  and graph construction.  See [the TensorFlow Eager Execution\n",
      "  guide](https://github.com/tensorflow/tensorflow/tree/master/tensorflow/contrib/eager/python/g3doc/guide.md#variables-and-optimizers)\n",
      "  for details on how variables work in eager execution.\n",
      "  @end_compatibility\n",
      "  \n"
     ]
    }
   ],
   "source": [
    "print(tf.Variable.__doc__)"
   ]
  },
  {
   "cell_type": "markdown",
   "metadata": {},
   "source": [
    "예시 3) - Variable"
   ]
  },
  {
   "cell_type": "code",
   "execution_count": 11,
   "metadata": {},
   "outputs": [
    {
     "name": "stdout",
     "output_type": "stream",
     "text": [
      "<tf.Variable 'Variable_2:0' shape=(3, 2) dtype=float32_ref> <tf.Variable 'Variable_3:0' shape=(2, 1) dtype=float32_ref>\n"
     ]
    }
   ],
   "source": [
    "# tf.Variable: 그래프를 계산하면서 최적화 할 변수들입니다. 이 값이 바로 신경망을 좌우하는 값\n",
    "# tf.random_normal: 각 변수들의 초기값을 정규분포 랜덤 값으로 초기화\n",
    "W = tf.Variable(tf.random_normal([3, 2]))\n",
    "b = tf.Variable(tf.random_normal([2, 1]))\n",
    "print(W,b)"
   ]
  },
  {
   "cell_type": "markdown",
   "metadata": {},
   "source": [
    "Placeholder와 그냥 변수 Variable만드는 거랑 무엇이 다른지를 간단하게 설명하면, \n",
    "\n",
    "Placeholder를 쓰면 input된 값이 그대로 튀어나오는 반면, \n",
    "\n",
    "Variable을 쓰면 참조된 노드가 무엇이냐에 따라 입력된 값이 나오지 않을 수 있다. (이는 그래프 노드 개념설명이 더 필요함)\n",
    "\n",
    "[참조링크](https://tensorflow.blog/2017/05/10/tf%EC%9D%98-%ED%85%90%EC%84%9C%EC%99%80-%EC%83%81%EC%88%98-%EB%B3%80%EC%88%98-%ED%94%8C%EB%A0%88%EC%9D%B4%EC%8A%A4%ED%99%80%EB%8D%94/)"
   ]
  },
  {
   "cell_type": "markdown",
   "metadata": {},
   "source": [
    "### 2) Operation "
   ]
  },
  {
   "cell_type": "markdown",
   "metadata": {},
   "source": [
    "그래프 상의 노드는 오퍼레이션(줄임말 op)으로 불린다. 오퍼레이션은 하나 이상의 텐서를 받을 수 있으며, 계산을 수행하고, 결과를 하나 이상의 텐서로 반환할 수 있다."
   ]
  },
  {
   "cell_type": "markdown",
   "metadata": {},
   "source": [
    "### 3) Session"
   ]
  },
  {
   "cell_type": "markdown",
   "metadata": {},
   "source": [
    "위의 코드는 실제로 어떤 계산도 수행하지 않는다. 단지 계산 그래프만 만들 뿐이고, 변수도 초기화되지 않는다. \n",
    "\n",
    "이 그래프를 평가하려면 텐서플로우  '세션'을 시작하고 변수를 초기화한 다음 평가해야 한다. \n",
    "\n",
    "TensorFlow 에서 Session은 operation 객체를 실행하고, tensor 객체를 평가하기 위한 환경을 제공하는 \"객체\"이다.\n",
    "\n",
    "    * 평가: 계산 그래프나 노드를 실행(run, execute)하여 연산의 값을 계산한다는 것. 우리가 모델 평가한다는 의미와 다르다. "
   ]
  },
  {
   "cell_type": "markdown",
   "metadata": {},
   "source": [
    "---"
   ]
  },
  {
   "cell_type": "markdown",
   "metadata": {},
   "source": [
    "### 4. 예제"
   ]
  },
  {
   "cell_type": "code",
   "execution_count": 30,
   "metadata": {},
   "outputs": [
    {
     "name": "stdout",
     "output_type": "stream",
     "text": [
      "WARNING:tensorflow:From C:\\Users\\Jungwoo Lim\\Anaconda3\\lib\\site-packages\\tensorflow\\python\\util\\tf_should_use.py:118: initialize_all_variables (from tensorflow.python.ops.variables) is deprecated and will be removed after 2017-03-02.\n",
      "Instructions for updating:\n",
      "Use `tf.global_variables_initializer` instead.\n",
      "0\n",
      "1\n",
      "2\n",
      "3\n"
     ]
    }
   ],
   "source": [
    "# 변수를 0으로 초기화\n",
    "state = tf.Variable(0, name=\"counter\")\n",
    "\n",
    "# state에 1을 더할 오퍼레이션 생성\n",
    "one = tf.constant(1)\n",
    "new_value = tf.add(state, one)\n",
    "update = tf.assign(state, new_value)\n",
    "\n",
    "# 그래프는 처음에 변수를 초기화해야 합니다. 아래 함수를 통해 init 오퍼레이션을 만듭니다.   \n",
    "init_op = tf.initialize_all_variables()\n",
    "\n",
    "# 그래프를 띄우고 오퍼레이션들을 실행\n",
    "with tf.Session() as sess:\n",
    "  # 초기화 오퍼레이션 실행\n",
    "  sess.run(init_op)\n",
    "  # state의 초기 값을 출력\n",
    "  print(sess.run(state))\n",
    "  # state를 갱신하는 오퍼레이션을 실행하고, state를 출력\n",
    "  for _ in range(3):\n",
    "    sess.run(update)\n",
    "    print(sess.run(state))"
   ]
  },
  {
   "cell_type": "code",
   "execution_count": null,
   "metadata": {},
   "outputs": [],
   "source": []
  },
  {
   "cell_type": "code",
   "execution_count": null,
   "metadata": {},
   "outputs": [],
   "source": []
  },
  {
   "cell_type": "code",
   "execution_count": null,
   "metadata": {},
   "outputs": [],
   "source": []
  }
 ],
 "metadata": {
  "kernelspec": {
   "display_name": "Python 3",
   "language": "python",
   "name": "python3"
  },
  "language_info": {
   "codemirror_mode": {
    "name": "ipython",
    "version": 3
   },
   "file_extension": ".py",
   "mimetype": "text/x-python",
   "name": "python",
   "nbconvert_exporter": "python",
   "pygments_lexer": "ipython3",
   "version": "3.6.5"
  }
 },
 "nbformat": 4,
 "nbformat_minor": 2
}
